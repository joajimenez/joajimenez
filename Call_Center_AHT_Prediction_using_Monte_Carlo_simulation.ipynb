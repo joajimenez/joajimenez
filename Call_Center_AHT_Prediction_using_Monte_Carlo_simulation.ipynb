{
  "nbformat": 4,
  "nbformat_minor": 0,
  "metadata": {
    "colab": {
      "provenance": [],
      "authorship_tag": "ABX9TyNXHgDYSgyP8NU13FjIBowE",
      "include_colab_link": true
    },
    "kernelspec": {
      "name": "python3",
      "display_name": "Python 3"
    },
    "language_info": {
      "name": "python"
    }
  },
  "cells": [
    {
      "cell_type": "markdown",
      "metadata": {
        "id": "view-in-github",
        "colab_type": "text"
      },
      "source": [
        "<a href=\"https://colab.research.google.com/github/joajimenez/joajimenez/blob/main/Call_Center_AHT_Prediction_using_Monte_Carlo_simulation.ipynb\" target=\"_parent\"><img src=\"https://colab.research.google.com/assets/colab-badge.svg\" alt=\"Open In Colab\"/></a>"
      ]
    },
    {
      "cell_type": "markdown",
      "source": [
        "Let's use this notebook to predict a Call Center's Average Handling Time (AHT) by using the Monte Carlo Simulation. The variables are `call_volume`, `agent_skill_level` and `agent_availability`. The AHT can be influenced by the agent skill level and their availability. We want to reduce the AHT."
      ],
      "metadata": {
        "id": "PyMLaKgKqKNf"
      }
    },
    {
      "cell_type": "markdown",
      "source": [
        "The variables input to use are `call_volume`: The number of calls received per hour, `agent_skill_level`: The skill level of agents available and `agent_availability`:  The proportion of agents available to take calls."
      ],
      "metadata": {
        "id": "OUIUn26-q2dJ"
      }
    },
    {
      "cell_type": "markdown",
      "source": [
        "To simulate AHT we create a simple model that stimates AHT based on agent skill level and availavility. Having a base AHT of `X` minutes, we want to stimate by how much `Y%` and `Z%` it decreases based on `agent_skill_level` and `agent_availability`."
      ],
      "metadata": {
        "id": "f55G7UDqrPGG"
      }
    },
    {
      "cell_type": "code",
      "source": [
        "# Let's start by importig Numpy and create our assumptions\n",
        "\n",
        "import numpy as np\n",
        "\n",
        "# Example assumptions\n",
        "base_aht = 8 # base time in minutes to handle the call\n",
        "skill_level_effect = 0.1 # each skill level unit reduced the AHT by 10%\n",
        "availability_effect = 0.2 # each 0.1 unit bellow 1 increases AHT by 20%"
      ],
      "metadata": {
        "id": "d2_kmP8RsH36"
      },
      "execution_count": 16,
      "outputs": []
    },
    {
      "cell_type": "code",
      "source": [
        "# Let's generate the random samples\n",
        "\n",
        "random_seed = np.random.randint(42) # For reproducibility\n",
        "call_volumes = np.random.randint(300,5000, 1000) # MIN 300, MAX 4999, SIZE 1000\n",
        "skill_levels = np.random.choice([0,1,2,3],1000) # Random skill levels\n",
        "availabilities = np.random.uniform(0.1, 1.0, 1000) # Draw random availability by drawing froma uniform distribution"
      ],
      "metadata": {
        "id": "-xZhB2mLswq3"
      },
      "execution_count": 20,
      "outputs": []
    },
    {
      "cell_type": "code",
      "source": [
        "# Simulate AHT for each set of imputs\n",
        "\n",
        "ahts = []\n",
        "for cv, sl, av in zip(call_volumes, skill_levels, availabilities):\n",
        "    aht = base_aht * (1 - sl * skill_level_effect) * (1 + max(0, (1-av)) * availability_effect)\n",
        "    ahts.append(aht)"
      ],
      "metadata": {
        "id": "bWTooUO1ua8S"
      },
      "execution_count": 21,
      "outputs": []
    },
    {
      "cell_type": "code",
      "source": [
        "# Now we analyse the results\n",
        "average_aht = np.mean(ahts)\n",
        "confidence_interval = np.percentile(ahts, [2.5, 97.5])\n",
        "\n",
        "print(f\"Average AHT: {average_aht:.2f} minutes\")\n",
        "print(f\"95% Confidence Interval: Calls are predicted to be between {confidence_interval} minutes\")"
      ],
      "metadata": {
        "colab": {
          "base_uri": "https://localhost:8080/"
        },
        "id": "vLs54Dqfu8au",
        "outputId": "61a3e9ee-9843-4c21-fcba-025800fff39d"
      },
      "execution_count": 23,
      "outputs": [
        {
          "output_type": "stream",
          "name": "stdout",
          "text": [
            "Average AHT: 7.42 minutes\n",
            "95% Confidence Interval: Calls are predicted to be between [5.71579202 9.31491829] minutes\n"
          ]
        }
      ]
    },
    {
      "cell_type": "markdown",
      "source": [
        "# Results\n",
        "\n",
        "The results of the simulation give us two important pieces of information about the average handling time in our call center scenario (based on the input assumptions):\n",
        "\n",
        "**Average AHT: 7.42 minutes**\n",
        "\n",
        "This value represents the average handling time across all simulated scenarios. According to the model, it takes around 7.42 minutes to handle a call in our simulated call center. This is a mean derived from the distribution of outcomes across our thousands of simulations, reflecting the combined effects of call volume, agent skill levels, and their availability.\n",
        "\n",
        "**95% Confidence Interval: Calls are predicted to be between [5.71579202 9.31491829] mins**\n",
        "\n",
        "**Lower bound (5.71 minutes):**\n",
        "\n",
        "This is the lower limit of the AHT that we can expect with 95% confidence. It means that, under the assumptions of the model, we can be fairly confident (95% sure) that the average call handling won't be lower than 5.71 mins.\n",
        "\n",
        "**Upper Bound (9.31 minutes):**\n",
        "\n",
        "This, on the other hand, is the upper limit of the AHT with the same level of confidence. It indicates that the AHT is unlikely to exceed 9.31 minutes in our simulated scenarios.\n",
        "\n",
        "\n",
        "##**S.M.A.R.T. Recommendations**\n",
        "\n",
        "Based on the scenario described and our experience in the call center and education industries, here are some S.M.A.R.T. recommendations that we can apply to reduce the AHT:\n",
        "\n",
        "**Resource Allocation:**\n",
        "\n",
        "Specific: Increase the proportion of highly skilled agents available during peak call volume hours by 15% within the next quarter.\n",
        "\n",
        "Measurable: Track the percentage of highly skilled agents available during peak hours and the average handling time during those periods.\n",
        "\n",
        "Achievable: Analyze your current staffing levels and skill distribution to determine a feasible increase within budget constraints.\n",
        "\n",
        "Relevant: This directly addresses the impact of agent skill level on AHT and aligns with your goal of reducing it.\n",
        "\n",
        "Time-bound: Achieve the 15% increase in highly skilled agent availability within the next three months.\n",
        "\n",
        "**Performance Monitoring:**\n",
        "\n",
        "Specific: Implement a system to track individual agent performance metrics, including average handling time and first-call resolution rate, within the next month.\n",
        "\n",
        "Measurable: Collect data on individual agent performance metrics and analyze trends over time.\n",
        "\n",
        "Achievable: Utilize existing performance tracking tools or implement a new system with minimal disruption to workflow.\n",
        "\n",
        "Relevant: Identifying agents with consistently high AHT allows for targeted training or coaching to improve their skills and reduce overall AHT.\n",
        "\n",
        "Time-bound: Have the performance tracking system operational and collecting data within one month.\n",
        "\n",
        "**Training and Development:**\n",
        "\n",
        "Specific: Develop and deliver a training program specifically focused on improving call handling efficiency for all agents within the next six months.\n",
        "\n",
        "Measurable: Track the completion rate of the training program and assess its impact on individual and team AHT through pre- and post-training comparisons.\n",
        "\n",
        "Achievable: Partner with your training department or external providers to develop and deliver the program within a realistic timeframe and budget.\n",
        "\n",
        "Relevant: Equipping agents with the necessary skills and knowledge directly contributes to faster call resolution and reduced AHT.\n",
        "\n",
        "Time-bound: Complete the training program development and delivery within six months.\n",
        "\n",
        "**Technology Solutions:**\n",
        "\n",
        "Specific: Evaluate and implement a call routing system that prioritizes routing calls to highly skilled agents based on real-time availability and skill requirements within the next year.\n",
        "\n",
        "Measurable: Track the percentage of calls routed to highly skilled agents and compare it to the average handling time for those calls.\n",
        "\n",
        "Achievable: Conduct a thorough evaluation of available call routing solutions and choose one that fits your budget and technical infrastructure.\n",
        "\n",
        "Relevant: Automating call routing based on agent skills can significantly improve efficiency and reduce AHT.\n",
        "\n",
        "Time-bound: Complete the evaluation, selection, and implementation of the call routing system within one year.\n",
        "\n"
      ],
      "metadata": {
        "id": "CFGPq4Yewy2Q"
      }
    },
    {
      "cell_type": "markdown",
      "source": [
        "## About me\n",
        "\n",
        "####Hello there.... My name's **Joan Jimenez**.\n",
        "\n",
        "With 4 years understanding customer needs through call centers and 6 years refining communication skills as an English teacher, I now leverage data analysis and Python to identify and explain complex data, bridging the gap between technical and non-technical audiences. I'm passionate about using data to improve performance and service - let's connect and share insights!\n",
        "\n",
        "Visit [my LinkedIn profile](https://www.linkedin.com/in/joanjimenezd)."
      ],
      "metadata": {
        "id": "QgVlQPn94xkz"
      }
    }
  ]
}